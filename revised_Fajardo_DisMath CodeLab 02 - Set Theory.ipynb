{
 "cells": [
  {
   "cell_type": "markdown",
   "metadata": {},
   "source": [
    "# Set Theory"
   ]
  },
  {
   "cell_type": "markdown",
   "metadata": {},
   "source": [
    "This code activity will try to guide you in applying the concepts, methods, and rules of Set Theory through code. We will go through with the data types in which Set Theory can be applied, how to write them in equation form im $\\LaTeX$, and then we will try to look at a practical example through a user's requirement."
   ]
  },
  {
   "cell_type": "markdown",
   "metadata": {},
   "source": [
    "### Lists"
   ]
  },
  {
   "cell_type": "markdown",
   "metadata": {},
   "source": [
    "In Python,  the most common iterable collection are lists. In lists, elements are ordered and chageable. Lists are denoted by enclosing objects with square brackets $[ ... ]$. Lists can be accessed through their indices, negative indexing is permitted."
   ]
  },
  {
   "cell_type": "code",
   "execution_count": 2,
   "metadata": {},
   "outputs": [],
   "source": [
    "### Declaration\n",
    "employees = ['John', 'Alex', 'Winston', 'Bob', 'Golbi'] ## Best practice when making a list of objects, list variable names should be in plural form "
   ]
  },
  {
   "cell_type": "code",
   "execution_count": 3,
   "metadata": {},
   "outputs": [
    {
     "data": {
      "text/plain": [
       "'Bob'"
      ]
     },
     "execution_count": 3,
     "metadata": {},
     "output_type": "execute_result"
    }
   ],
   "source": [
    "### Single Access\n",
    "employees[-2]"
   ]
  },
  {
   "cell_type": "code",
   "execution_count": 4,
   "metadata": {},
   "outputs": [
    {
     "data": {
      "text/plain": [
       "['Golbi', 'Bob', 'Winston', 'Alex', 'John']"
      ]
     },
     "execution_count": 4,
     "metadata": {},
     "output_type": "execute_result"
    }
   ],
   "source": [
    "### Multiple Access\n",
    "employees[::-1]"
   ]
  },
  {
   "cell_type": "code",
   "execution_count": 5,
   "metadata": {},
   "outputs": [
    {
     "name": "stdout",
     "output_type": "stream",
     "text": [
      "Hi  John\n",
      "Hi  Alex\n",
      "Hi  Winston\n",
      "Hi  Bob\n",
      "Hi  Golbi\n"
     ]
    }
   ],
   "source": [
    "### Multiple Access via Loops\n",
    "for employee in employees: ## To make coding a bit more intuitive, we use the singular form of the list variable name to denote its elements.\n",
    "    print(\"Hi \",employee)"
   ]
  },
  {
   "cell_type": "code",
   "execution_count": 6,
   "metadata": {},
   "outputs": [
    {
     "name": "stdout",
     "output_type": "stream",
     "text": [
      "John\n",
      "Winston\n",
      "Golbi\n"
     ]
    }
   ],
   "source": [
    "### Multiple Access via Loops\n",
    "\n",
    "for i in range(len(employees)): ## You could also use indices for iterations.\n",
    "    if(i%2 == 0):\n",
    "        print(employees[i])"
   ]
  },
  {
   "cell_type": "code",
   "execution_count": 7,
   "metadata": {},
   "outputs": [
    {
     "name": "stdout",
     "output_type": "stream",
     "text": [
      "['John', 'Alex', 'Winston', 'John', 'Jimmy']\n"
     ]
    }
   ],
   "source": [
    "### Modifying Elements\n",
    "employees[3] = 'John'\n",
    "employees[-1] = 'Jimmy'\n",
    "print(employees)"
   ]
  },
  {
   "cell_type": "code",
   "execution_count": 19,
   "metadata": {},
   "outputs": [
    {
     "name": "stdout",
     "output_type": "stream",
     "text": [
      "['Ozai']\n"
     ]
    }
   ],
   "source": [
    "### Adding Elements\n",
    "# employees.append(\"Elfaba\")\n",
    "\n",
    "employees.insert(2, \"Ozai\")\n",
    "print(employees)"
   ]
  },
  {
   "cell_type": "code",
   "execution_count": 20,
   "metadata": {},
   "outputs": [
    {
     "ename": "IndexError",
     "evalue": "list assignment index out of range",
     "output_type": "error",
     "traceback": [
      "\u001b[1;31m---------------------------------------------------------------------------\u001b[0m",
      "\u001b[1;31mIndexError\u001b[0m                                Traceback (most recent call last)",
      "\u001b[1;32m<ipython-input-20-02e4ab158cc5>\u001b[0m in \u001b[0;36m<module>\u001b[1;34m\u001b[0m\n\u001b[0;32m      4\u001b[0m \u001b[0memployees\u001b[0m\u001b[1;33m.\u001b[0m\u001b[0mremove\u001b[0m\u001b[1;33m(\u001b[0m\u001b[1;34m\"Ozai\"\u001b[0m\u001b[1;33m)\u001b[0m\u001b[1;33m\u001b[0m\u001b[1;33m\u001b[0m\u001b[0m\n\u001b[0;32m      5\u001b[0m \u001b[1;33m\u001b[0m\u001b[0m\n\u001b[1;32m----> 6\u001b[1;33m \u001b[1;32mdel\u001b[0m \u001b[0memployees\u001b[0m\u001b[1;33m[\u001b[0m\u001b[1;36m1\u001b[0m\u001b[1;33m]\u001b[0m\u001b[1;33m\u001b[0m\u001b[1;33m\u001b[0m\u001b[0m\n\u001b[0m\u001b[0;32m      7\u001b[0m \u001b[1;33m\u001b[0m\u001b[0m\n\u001b[0;32m      8\u001b[0m \u001b[0memployees\u001b[0m\u001b[1;33m.\u001b[0m\u001b[0mclear\u001b[0m\u001b[1;33m(\u001b[0m\u001b[1;33m)\u001b[0m\u001b[1;33m\u001b[0m\u001b[1;33m\u001b[0m\u001b[0m\n",
      "\u001b[1;31mIndexError\u001b[0m: list assignment index out of range"
     ]
    }
   ],
   "source": [
    "### Removing Elements\n",
    "#employees.pop() \n",
    "\n",
    "employees.remove(\"Ozai\")\n",
    "\n",
    "del employees[-1]\n",
    "\n",
    "employees.clear()\n",
    "employees"
   ]
  },
  {
   "cell_type": "markdown",
   "metadata": {},
   "source": [
    "### Tuples"
   ]
  },
  {
   "cell_type": "markdown",
   "metadata": {},
   "source": [
    "Tuples are another collection data type in Python. There are several key differences between lists and tuples:\n",
    "- Tuples are ordered collections, so order cannot be rearranged or modified.\n",
    "- Since tuples are ordered collections $(a, b) \\neq (b, a)$\n",
    "- They are declared and denoted using parentheses $( ...)$"
   ]
  },
  {
   "cell_type": "code",
   "execution_count": 21,
   "metadata": {},
   "outputs": [],
   "source": [
    "### Declaration\n",
    "pix1_colors = (255, 0 , 0)  ## In image processing, this is called a tuple consisting of channels. \n",
    "                            ##It is structured as (Red, Green, Blue) such that the values in each channe; ranges from 0 - 255 \n",
    "pix2_colors = (64, 128, 111)"
   ]
  },
  {
   "cell_type": "code",
   "execution_count": 22,
   "metadata": {},
   "outputs": [
    {
     "data": {
      "text/plain": [
       "128"
      ]
     },
     "execution_count": 22,
     "metadata": {},
     "output_type": "execute_result"
    }
   ],
   "source": [
    "### Single Access\n",
    "green = pix2_colors[1]\n",
    "green"
   ]
  },
  {
   "cell_type": "code",
   "execution_count": 23,
   "metadata": {},
   "outputs": [
    {
     "ename": "TypeError",
     "evalue": "'tuple' object does not support item assignment",
     "output_type": "error",
     "traceback": [
      "\u001b[1;31m---------------------------------------------------------------------------\u001b[0m",
      "\u001b[1;31mTypeError\u001b[0m                                 Traceback (most recent call last)",
      "\u001b[1;32m<ipython-input-23-92279de707a4>\u001b[0m in \u001b[0;36m<module>\u001b[1;34m\u001b[0m\n\u001b[1;32m----> 1\u001b[1;33m \u001b[0mpix1_colors\u001b[0m\u001b[1;33m[\u001b[0m\u001b[1;36m2\u001b[0m\u001b[1;33m]\u001b[0m \u001b[1;33m=\u001b[0m \u001b[1;36m128\u001b[0m\u001b[1;33m\u001b[0m\u001b[1;33m\u001b[0m\u001b[0m\n\u001b[0m",
      "\u001b[1;31mTypeError\u001b[0m: 'tuple' object does not support item assignment"
     ]
    }
   ],
   "source": [
    "pix1_colors[2] = 128"
   ]
  },
  {
   "cell_type": "code",
   "execution_count": 24,
   "metadata": {},
   "outputs": [
    {
     "data": {
      "text/plain": [
       "(64, 111)"
      ]
     },
     "execution_count": 24,
     "metadata": {},
     "output_type": "execute_result"
    }
   ],
   "source": [
    "### Multiple Access\n",
    "pix2_colors[::2]"
   ]
  },
  {
   "cell_type": "code",
   "execution_count": 25,
   "metadata": {},
   "outputs": [
    {
     "name": "stdout",
     "output_type": "stream",
     "text": [
      "64\n",
      "128\n",
      "111\n"
     ]
    }
   ],
   "source": [
    "### Multiple Access via Loops\n",
    "for color in pix2_colors:\n",
    "    print(color)"
   ]
  },
  {
   "cell_type": "code",
   "execution_count": 26,
   "metadata": {},
   "outputs": [
    {
     "name": "stdout",
     "output_type": "stream",
     "text": [
      "Coordinates of cars in ordered pair form: (3, 0)\n",
      "Coordinates of cars in ordered pair form: (5, 1)\n",
      "Coordinates of cars in ordered pair form: (12, 5)\n",
      "Coordinates of cars in ordered pair form: (15, 2)\n"
     ]
    }
   ],
   "source": [
    "car_xpos = (3, 5, 12, 15)\n",
    "car_ypos = (0, 1, 5, 2)\n",
    "### Multiple Access via Parallel Iteration\n",
    "for pos in zip(car_xpos, car_ypos):\n",
    "    print(f'Coordinates of cars in ordered pair form: {pos}')"
   ]
  },
  {
   "cell_type": "code",
   "execution_count": 27,
   "metadata": {},
   "outputs": [
    {
     "name": "stdout",
     "output_type": "stream",
     "text": [
      "(255, 64)\n",
      "(0, 128)\n",
      "(0, 111)\n"
     ]
    }
   ],
   "source": [
    "for px_colors in zip(pix1_colors, pix2_colors):\n",
    "    print(px_colors)"
   ]
  },
  {
   "cell_type": "code",
   "execution_count": 28,
   "metadata": {},
   "outputs": [
    {
     "ename": "TypeError",
     "evalue": "'tuple' object does not support item assignment",
     "output_type": "error",
     "traceback": [
      "\u001b[1;31m---------------------------------------------------------------------------\u001b[0m",
      "\u001b[1;31mTypeError\u001b[0m                                 Traceback (most recent call last)",
      "\u001b[1;32m<ipython-input-28-9e3d25433a12>\u001b[0m in \u001b[0;36m<module>\u001b[1;34m\u001b[0m\n\u001b[0;32m      1\u001b[0m \u001b[1;31m### Modifying Elements\u001b[0m\u001b[1;33m\u001b[0m\u001b[1;33m\u001b[0m\u001b[1;33m\u001b[0m\u001b[0m\n\u001b[0;32m      2\u001b[0m \u001b[1;33m\u001b[0m\u001b[0m\n\u001b[1;32m----> 3\u001b[1;33m \u001b[0mcar_xpos\u001b[0m\u001b[1;33m[\u001b[0m\u001b[1;36m0\u001b[0m\u001b[1;33m]\u001b[0m \u001b[1;33m=\u001b[0m \u001b[1;36m0\u001b[0m\u001b[1;33m\u001b[0m\u001b[1;33m\u001b[0m\u001b[0m\n\u001b[0m",
      "\u001b[1;31mTypeError\u001b[0m: 'tuple' object does not support item assignment"
     ]
    }
   ],
   "source": [
    "### Modifying Elements\n",
    "\n",
    "car_xpos[0] = 0\n"
   ]
  },
  {
   "cell_type": "code",
   "execution_count": 29,
   "metadata": {},
   "outputs": [
    {
     "ename": "TypeError",
     "evalue": "'tuple' object doesn't support item deletion",
     "output_type": "error",
     "traceback": [
      "\u001b[1;31m---------------------------------------------------------------------------\u001b[0m",
      "\u001b[1;31mTypeError\u001b[0m                                 Traceback (most recent call last)",
      "\u001b[1;32m<ipython-input-29-531563a974fc>\u001b[0m in \u001b[0;36m<module>\u001b[1;34m\u001b[0m\n\u001b[0;32m      1\u001b[0m \u001b[1;31m### Removing Elements\u001b[0m\u001b[1;33m\u001b[0m\u001b[1;33m\u001b[0m\u001b[1;33m\u001b[0m\u001b[0m\n\u001b[0;32m      2\u001b[0m \u001b[1;33m\u001b[0m\u001b[0m\n\u001b[1;32m----> 3\u001b[1;33m \u001b[1;32mdel\u001b[0m \u001b[0mpix1_colors\u001b[0m\u001b[1;33m[\u001b[0m\u001b[1;36m0\u001b[0m\u001b[1;33m]\u001b[0m\u001b[1;33m\u001b[0m\u001b[1;33m\u001b[0m\u001b[0m\n\u001b[0m",
      "\u001b[1;31mTypeError\u001b[0m: 'tuple' object doesn't support item deletion"
     ]
    }
   ],
   "source": [
    "### Removing Elements\n",
    "\n",
    "del pix1_colors[0]\n"
   ]
  },
  {
   "cell_type": "code",
   "execution_count": 30,
   "metadata": {},
   "outputs": [
    {
     "data": {
      "text/plain": [
       "(3, 5, 12, 15, 0, 1, 5, 2)"
      ]
     },
     "execution_count": 30,
     "metadata": {},
     "output_type": "execute_result"
    }
   ],
   "source": [
    "### Merging Tuples\n",
    "car_pos = car_xpos + car_ypos\n",
    "car_pos"
   ]
  },
  {
   "cell_type": "markdown",
   "metadata": {},
   "source": [
    "### Sets"
   ]
  },
  {
   "cell_type": "markdown",
   "metadata": {},
   "source": [
    "Sets are collections which are unordered and unindexed. Repititions are not allowed in set structures and they are denoted by curly brackets $\\{ ... \\}$."
   ]
  },
  {
   "cell_type": "code",
   "execution_count": 33,
   "metadata": {},
   "outputs": [],
   "source": [
    "### Declaration\n",
    "bakery_A = {'bread', 'cracker', 'croissant', 'eclair', 'parfait','cannele', 'coffee','tea'}\n",
    "bakery_B = {'bread', 'croissant', 'donuts', 'cinnamon roll', 'cookies','coffee','tea'}\n",
    "bakery_C = {'bread', 'bread', 'bread'}"
   ]
  },
  {
   "cell_type": "code",
   "execution_count": 34,
   "metadata": {},
   "outputs": [
    {
     "name": "stdout",
     "output_type": "stream",
     "text": [
      "{'bread'}\n"
     ]
    }
   ],
   "source": [
    "print(bakery_C)"
   ]
  },
  {
   "cell_type": "code",
   "execution_count": 35,
   "metadata": {},
   "outputs": [
    {
     "ename": "TypeError",
     "evalue": "'set' object is not subscriptable",
     "output_type": "error",
     "traceback": [
      "\u001b[1;31m---------------------------------------------------------------------------\u001b[0m",
      "\u001b[1;31mTypeError\u001b[0m                                 Traceback (most recent call last)",
      "\u001b[1;32m<ipython-input-35-f0826fdf6907>\u001b[0m in \u001b[0;36m<module>\u001b[1;34m\u001b[0m\n\u001b[0;32m      1\u001b[0m \u001b[1;31m### Accessing Elements\u001b[0m\u001b[1;33m\u001b[0m\u001b[1;33m\u001b[0m\u001b[1;33m\u001b[0m\u001b[0m\n\u001b[1;32m----> 2\u001b[1;33m \u001b[0mbakery_A\u001b[0m\u001b[1;33m[\u001b[0m\u001b[1;36m0\u001b[0m\u001b[1;33m]\u001b[0m\u001b[1;33m\u001b[0m\u001b[1;33m\u001b[0m\u001b[0m\n\u001b[0m",
      "\u001b[1;31mTypeError\u001b[0m: 'set' object is not subscriptable"
     ]
    }
   ],
   "source": [
    "### Accessing Elements\n",
    "bakery_A[0]"
   ]
  },
  {
   "cell_type": "code",
   "execution_count": 36,
   "metadata": {},
   "outputs": [
    {
     "name": "stdout",
     "output_type": "stream",
     "text": [
      "croissant\n",
      "cracker\n",
      "eclair\n",
      "bread\n",
      "cannele\n",
      "tea\n",
      "parfait\n",
      "coffee\n"
     ]
    }
   ],
   "source": [
    "### Multiple Access via Loops\n",
    "for product in bakery_A:\n",
    "    print(product)"
   ]
  },
  {
   "cell_type": "code",
   "execution_count": 37,
   "metadata": {},
   "outputs": [
    {
     "name": "stdout",
     "output_type": "stream",
     "text": [
      "{'croissant', 'cracker', 'eclair', 'bread', 'cannele', 'tea', 'parfait', 'coffee'}\n",
      "{'croissant', 'cracker', 'eclair', 'bread', 'tea', 'parfait', 'coffee'}\n"
     ]
    }
   ],
   "source": [
    "### Removing an Element\n",
    "print(bakery_A)\n",
    "bakery_A.remove('cannele')\n",
    "print(bakery_A)"
   ]
  },
  {
   "cell_type": "code",
   "execution_count": 38,
   "metadata": {},
   "outputs": [
    {
     "name": "stdout",
     "output_type": "stream",
     "text": [
      "False\n"
     ]
    },
    {
     "data": {
      "text/plain": [
       "False"
      ]
     },
     "execution_count": 38,
     "metadata": {},
     "output_type": "execute_result"
    }
   ],
   "source": [
    "### Membership\n",
    "print('cannele' in bakery_A)\n",
    "### Subsets\n",
    "order = {'coffee', 'tea', 'donuts'}\n",
    "order.issubset(bakery_A)"
   ]
  },
  {
   "cell_type": "code",
   "execution_count": 39,
   "metadata": {},
   "outputs": [
    {
     "name": "stdout",
     "output_type": "stream",
     "text": [
      "{'croissant', 'cracker', 'eclair', 'bread', 'tea', 'parfait', 'coffee'}\n",
      "{'croissant', 'cinnamon roll', 'bread', 'cookies', 'tea', 'donuts', 'coffee'}\n"
     ]
    },
    {
     "data": {
      "text/plain": [
       "{'bread',\n",
       " 'cinnamon roll',\n",
       " 'coffee',\n",
       " 'cookies',\n",
       " 'cracker',\n",
       " 'croissant',\n",
       " 'donuts',\n",
       " 'eclair',\n",
       " 'parfait',\n",
       " 'tea'}"
      ]
     },
     "execution_count": 39,
     "metadata": {},
     "output_type": "execute_result"
    }
   ],
   "source": [
    "### Union\n",
    "print(bakery_A)\n",
    "print(bakery_B)\n",
    "baker_st = bakery_A.union(bakery_B)\n",
    "baker_st"
   ]
  },
  {
   "cell_type": "code",
   "execution_count": 18,
   "metadata": {},
   "outputs": [
    {
     "data": {
      "text/plain": [
       "{'bread', 'coffee', 'croissant', 'tea'}"
      ]
     },
     "execution_count": 18,
     "metadata": {},
     "output_type": "execute_result"
    }
   ],
   "source": [
    "### Intersection\n",
    "bakery_A.intersection(bakery_B)"
   ]
  },
  {
   "cell_type": "code",
   "execution_count": 20,
   "metadata": {},
   "outputs": [
    {
     "data": {
      "text/plain": [
       "{'cinnamon roll', 'cookies', 'donuts'}"
      ]
     },
     "execution_count": 20,
     "metadata": {},
     "output_type": "execute_result"
    }
   ],
   "source": [
    "### Difference\n",
    "### Unique elements that is in Bakery but not in Bakery B\n",
    "bakery_B.difference(bakery_A)"
   ]
  },
  {
   "cell_type": "markdown",
   "metadata": {},
   "source": [
    "### Dictionaries"
   ]
  },
  {
   "cell_type": "markdown",
   "metadata": {},
   "source": [
    "Dictionaries are collections which is unordered, changeable like sets but are indexed. Like sets, they are denoted witn $\\{...\\}$ but objects are characterized by <b>keys</b> and described using <b>values</b>."
   ]
  },
  {
   "cell_type": "code",
   "execution_count": 21,
   "metadata": {},
   "outputs": [],
   "source": [
    "### Declaration\n",
    "bakery_A_prices = {'bread' : 60, \n",
    "            'cracker': 15, \n",
    "            'croissant': 40, \n",
    "           }"
   ]
  },
  {
   "cell_type": "code",
   "execution_count": 22,
   "metadata": {},
   "outputs": [
    {
     "data": {
      "text/plain": [
       "60"
      ]
     },
     "execution_count": 22,
     "metadata": {},
     "output_type": "execute_result"
    }
   ],
   "source": [
    "## Accessing\n",
    "bakery_A_prices['bread']"
   ]
  },
  {
   "cell_type": "code",
   "execution_count": 23,
   "metadata": {},
   "outputs": [
    {
     "name": "stdout",
     "output_type": "stream",
     "text": [
      "bread\n",
      "cracker\n",
      "croissant\n"
     ]
    }
   ],
   "source": [
    "## Accessing via Loops\n",
    "for product in bakery_A_prices:\n",
    "    print(product)"
   ]
  },
  {
   "cell_type": "code",
   "execution_count": 24,
   "metadata": {},
   "outputs": [
    {
     "name": "stdout",
     "output_type": "stream",
     "text": [
      "60\n",
      "15\n",
      "40\n"
     ]
    }
   ],
   "source": [
    "for product in bakery_A_prices:\n",
    "    print(bakery_A_prices[product])"
   ]
  },
  {
   "cell_type": "code",
   "execution_count": 25,
   "metadata": {},
   "outputs": [
    {
     "name": "stdout",
     "output_type": "stream",
     "text": [
      "60\n",
      "15\n",
      "40\n"
     ]
    }
   ],
   "source": [
    "for price in bakery_A_prices.values():\n",
    "    print(price)"
   ]
  },
  {
   "cell_type": "code",
   "execution_count": 26,
   "metadata": {},
   "outputs": [
    {
     "name": "stdout",
     "output_type": "stream",
     "text": [
      "bread 60\n",
      "cracker 15\n",
      "croissant 40\n"
     ]
    }
   ],
   "source": [
    "for product, price in bakery_A_prices.items():\n",
    "    print(product, price)"
   ]
  },
  {
   "cell_type": "code",
   "execution_count": 28,
   "metadata": {},
   "outputs": [
    {
     "name": "stdout",
     "output_type": "stream",
     "text": [
      "48.0\n",
      "38.400000000000006\n"
     ]
    }
   ],
   "source": [
    "## Update / Modification\n",
    "print(bakery_A_prices['bread'])\n",
    "bakery_A_prices['bread'] *= 0.8\n",
    "print(bakery_A_prices['bread'])"
   ]
  },
  {
   "cell_type": "code",
   "execution_count": 29,
   "metadata": {},
   "outputs": [
    {
     "name": "stdout",
     "output_type": "stream",
     "text": [
      "{'bread': 38.400000000000006, 'cracker': 15, 'croissant': 40}\n",
      "{'bread': 38.400000000000006, 'cracker': 15, 'croissant': 40, 'coffee': 110}\n"
     ]
    }
   ],
   "source": [
    "## Adding Elements\n",
    "print(bakery_A_prices)\n",
    "bakery_A_prices['coffee'] = 110\n",
    "print(bakery_A_prices)"
   ]
  },
  {
   "cell_type": "code",
   "execution_count": 31,
   "metadata": {},
   "outputs": [
    {
     "name": "stdout",
     "output_type": "stream",
     "text": [
      "{'bread': 38.400000000000006, 'cracker': 15, 'croissant': 40, 'coffee': 110}\n",
      "15\n",
      "{'bread': 38.400000000000006, 'croissant': 40, 'coffee': 110}\n"
     ]
    }
   ],
   "source": [
    "## Removing Elements\n",
    "print(bakery_A_prices)\n",
    "print(bakery_A_prices.pop('cracker'))\n",
    "print(bakery_A_prices)"
   ]
  },
  {
   "cell_type": "code",
   "execution_count": null,
   "metadata": {},
   "outputs": [],
   "source": []
  },
  {
   "cell_type": "code",
   "execution_count": null,
   "metadata": {},
   "outputs": [],
   "source": []
  },
  {
   "cell_type": "code",
   "execution_count": null,
   "metadata": {},
   "outputs": [],
   "source": []
  },
  {
   "cell_type": "code",
   "execution_count": null,
   "metadata": {},
   "outputs": [],
   "source": []
  },
  {
   "cell_type": "code",
   "execution_count": null,
   "metadata": {},
   "outputs": [],
   "source": []
  },
  {
   "cell_type": "code",
   "execution_count": null,
   "metadata": {},
   "outputs": [],
   "source": []
  },
  {
   "cell_type": "code",
   "execution_count": null,
   "metadata": {},
   "outputs": [],
   "source": []
  },
  {
   "cell_type": "markdown",
   "metadata": {},
   "source": [
    "## Dataset Operations"
   ]
  },
  {
   "cell_type": "markdown",
   "metadata": {},
   "source": [
    "For this section, we will use the sets below to practice some practical dataset operations."
   ]
  },
  {
   "cell_type": "code",
   "execution_count": 41,
   "metadata": {},
   "outputs": [],
   "source": [
    "cpe_courses = [\"Object-Oriented Programming\", \"Data Structures and Algorithms\", \"Discrete Mathematics\", \"Linear Algebra\",\n",
    "               \"Database Management\",\"Logic Circuits\", \"Computer Automation\",\"Digital Signals Processing\", \"Computer System Architecture and Organization\"]\n",
    "cs_courses = [\"Object-Oriented Programming\", \"Data Structures and Algorithms\", \"Automata\", \"Programming Language Theory\",\n",
    "             \"Discrete Mathematics\", \"Database Management\", \"Human Computer Interaction\", \"Information Security\", \"Information Management\"]"
   ]
  },
  {
   "cell_type": "code",
   "execution_count": 42,
   "metadata": {},
   "outputs": [],
   "source": [
    "cpe = set(cpe_courses)\n",
    "cs = set(cs_courses)\n"
   ]
  },
  {
   "cell_type": "markdown",
   "metadata": {},
   "source": [
    "### Inner Join"
   ]
  },
  {
   "cell_type": "code",
   "execution_count": 43,
   "metadata": {},
   "outputs": [
    {
     "data": {
      "text/plain": [
       "{'Data Structures and Algorithms',\n",
       " 'Database Management',\n",
       " 'Discrete Mathematics',\n",
       " 'Object-Oriented Programming'}"
      ]
     },
     "execution_count": 43,
     "metadata": {},
     "output_type": "execute_result"
    }
   ],
   "source": [
    "## Find the common things between the sets\n",
    "## Intersection\n",
    "common = cpe.intersection(cs)\n",
    "common ## inner join"
   ]
  },
  {
   "cell_type": "markdown",
   "metadata": {},
   "source": [
    "### Left Join"
   ]
  },
  {
   "cell_type": "code",
   "execution_count": 44,
   "metadata": {},
   "outputs": [
    {
     "data": {
      "text/plain": [
       "{'Computer Automation',\n",
       " 'Computer System Architecture and Organization',\n",
       " 'Data Structures and Algorithms',\n",
       " 'Database Management',\n",
       " 'Digital Signals Processing',\n",
       " 'Discrete Mathematics',\n",
       " 'Linear Algebra',\n",
       " 'Logic Circuits',\n",
       " 'Object-Oriented Programming'}"
      ]
     },
     "execution_count": 44,
     "metadata": {},
     "output_type": "execute_result"
    }
   ],
   "source": [
    "cpe_ljoin = common.union(cpe)\n",
    "cpe_ljoin"
   ]
  },
  {
   "cell_type": "markdown",
   "metadata": {},
   "source": [
    "### Right Join"
   ]
  },
  {
   "cell_type": "code",
   "execution_count": 45,
   "metadata": {},
   "outputs": [
    {
     "data": {
      "text/plain": [
       "{'Automata',\n",
       " 'Data Structures and Algorithms',\n",
       " 'Database Management',\n",
       " 'Discrete Mathematics',\n",
       " 'Human Computer Interaction',\n",
       " 'Information Management',\n",
       " 'Information Security',\n",
       " 'Object-Oriented Programming',\n",
       " 'Programming Language Theory'}"
      ]
     },
     "execution_count": 45,
     "metadata": {},
     "output_type": "execute_result"
    }
   ],
   "source": [
    "cs_rjoin = common.union(cs)\n",
    "cs_rjoin"
   ]
  },
  {
   "cell_type": "markdown",
   "metadata": {},
   "source": [
    "### Left Exclusive Join"
   ]
  },
  {
   "cell_type": "code",
   "execution_count": 46,
   "metadata": {},
   "outputs": [
    {
     "data": {
      "text/plain": [
       "{'Computer Automation',\n",
       " 'Computer System Architecture and Organization',\n",
       " 'Digital Signals Processing',\n",
       " 'Linear Algebra',\n",
       " 'Logic Circuits'}"
      ]
     },
     "execution_count": 46,
     "metadata": {},
     "output_type": "execute_result"
    }
   ],
   "source": [
    "cpe_exljoin = cpe.difference(cs)\n",
    "cpe_exljoin"
   ]
  },
  {
   "cell_type": "markdown",
   "metadata": {},
   "source": [
    "### Right Exclusive Join"
   ]
  },
  {
   "cell_type": "code",
   "execution_count": 47,
   "metadata": {},
   "outputs": [
    {
     "data": {
      "text/plain": [
       "{'Automata',\n",
       " 'Human Computer Interaction',\n",
       " 'Information Management',\n",
       " 'Information Security',\n",
       " 'Programming Language Theory'}"
      ]
     },
     "execution_count": 47,
     "metadata": {},
     "output_type": "execute_result"
    }
   ],
   "source": [
    "cs_exrjoin = cs.difference(cpe)\n",
    "cs_exrjoin"
   ]
  },
  {
   "cell_type": "markdown",
   "metadata": {},
   "source": [
    "### Full Outer Join"
   ]
  },
  {
   "cell_type": "code",
   "execution_count": 48,
   "metadata": {},
   "outputs": [
    {
     "data": {
      "text/plain": [
       "{'Automata',\n",
       " 'Computer Automation',\n",
       " 'Computer System Architecture and Organization',\n",
       " 'Data Structures and Algorithms',\n",
       " 'Database Management',\n",
       " 'Digital Signals Processing',\n",
       " 'Discrete Mathematics',\n",
       " 'Human Computer Interaction',\n",
       " 'Information Management',\n",
       " 'Information Security',\n",
       " 'Linear Algebra',\n",
       " 'Logic Circuits',\n",
       " 'Object-Oriented Programming',\n",
       " 'Programming Language Theory'}"
      ]
     },
     "execution_count": 48,
     "metadata": {},
     "output_type": "execute_result"
    }
   ],
   "source": [
    "## Union\n",
    "full_outer = cpe.union(cs)\n",
    "full_outer"
   ]
  },
  {
   "cell_type": "markdown",
   "metadata": {},
   "source": [
    "### Full Outer Exclusive Join"
   ]
  },
  {
   "cell_type": "code",
   "execution_count": 49,
   "metadata": {},
   "outputs": [
    {
     "data": {
      "text/plain": [
       "{'Automata',\n",
       " 'Computer Automation',\n",
       " 'Computer System Architecture and Organization',\n",
       " 'Digital Signals Processing',\n",
       " 'Human Computer Interaction',\n",
       " 'Information Management',\n",
       " 'Information Security',\n",
       " 'Linear Algebra',\n",
       " 'Logic Circuits',\n",
       " 'Programming Language Theory'}"
      ]
     },
     "execution_count": 49,
     "metadata": {},
     "output_type": "execute_result"
    }
   ],
   "source": [
    "## XOR\n",
    "full_xouter = (cpe.difference(cs)).union(cs.difference(cpe))\n",
    "full_xouter"
   ]
  },
  {
   "cell_type": "markdown",
   "metadata": {},
   "source": [
    "## Scratch Area"
   ]
  },
  {
   "cell_type": "markdown",
   "metadata": {},
   "source": [
    "You can use the area below to try your own code."
   ]
  },
  {
   "cell_type": "code",
   "execution_count": 2,
   "metadata": {},
   "outputs": [],
   "source": [
    "Earth=['Thick Atmosphere','Few Craters','Inhabited','Different Temperature','Larger','Has Water','A moon','Strong Magnetic Field','4 seasons','Ice caps','Made of Rock','Dry Land','Canyons','Valleys','Craters','Volcanoes','Storms']\n",
    "Mars=['Thin Atmosphere','Weak Magnetic Field','Not Inhabited','Not that hot but very cold','smaller','No water','2 moons','4 seasons','Ice caps','Made of Rock','Dry Land','Canyons','Valleys','Craters','Volcanoes','Storms']"
   ]
  },
  {
   "cell_type": "code",
   "execution_count": 3,
   "metadata": {},
   "outputs": [],
   "source": [
    "E =set(Earth)\n",
    "M =set(Mars)"
   ]
  },
  {
   "cell_type": "code",
   "execution_count": 5,
   "metadata": {},
   "outputs": [
    {
     "data": {
      "text/plain": [
       "{'4 seasons',\n",
       " 'Canyons',\n",
       " 'Craters',\n",
       " 'Dry Land',\n",
       " 'Ice caps',\n",
       " 'Made of Rock',\n",
       " 'Storms',\n",
       " 'Valleys',\n",
       " 'Volcanoes'}"
      ]
     },
     "execution_count": 5,
     "metadata": {},
     "output_type": "execute_result"
    }
   ],
   "source": [
    "#Inner Join\n",
    "Planet_common=E.intersection(M)\n",
    "Planet_common"
   ]
  },
  {
   "cell_type": "code",
   "execution_count": 6,
   "metadata": {},
   "outputs": [
    {
     "data": {
      "text/plain": [
       "{'4 seasons',\n",
       " 'A moon',\n",
       " 'Canyons',\n",
       " 'Craters',\n",
       " 'Different Temperature',\n",
       " 'Dry Land',\n",
       " 'Few Craters',\n",
       " 'Has Water',\n",
       " 'Ice caps',\n",
       " 'Inhabited',\n",
       " 'Larger',\n",
       " 'Made of Rock',\n",
       " 'Storms',\n",
       " 'Strong Magnetic Field',\n",
       " 'Thick Atmosphere',\n",
       " 'Valleys',\n",
       " 'Volcanoes'}"
      ]
     },
     "execution_count": 6,
     "metadata": {},
     "output_type": "execute_result"
    }
   ],
   "source": [
    "#Left Join\n",
    "E_ljoin=Planet_common.union(E)\n",
    "E_ljoin"
   ]
  },
  {
   "cell_type": "code",
   "execution_count": 7,
   "metadata": {},
   "outputs": [
    {
     "data": {
      "text/plain": [
       "{'2 moons',\n",
       " '4 seasons',\n",
       " 'Canyons',\n",
       " 'Craters',\n",
       " 'Dry Land',\n",
       " 'Ice caps',\n",
       " 'Made of Rock',\n",
       " 'No water',\n",
       " 'Not Inhabited',\n",
       " 'Not that hot but very cold',\n",
       " 'Storms',\n",
       " 'Thin Atmosphere',\n",
       " 'Valleys',\n",
       " 'Volcanoes',\n",
       " 'Weak Magnetic Field',\n",
       " 'smaller'}"
      ]
     },
     "execution_count": 7,
     "metadata": {},
     "output_type": "execute_result"
    }
   ],
   "source": [
    "#Right Join\n",
    "M_rjoin=Planet_common.union(M)\n",
    "M_rjoin"
   ]
  },
  {
   "cell_type": "code",
   "execution_count": 8,
   "metadata": {},
   "outputs": [
    {
     "data": {
      "text/plain": [
       "{'A moon',\n",
       " 'Different Temperature',\n",
       " 'Few Craters',\n",
       " 'Has Water',\n",
       " 'Inhabited',\n",
       " 'Larger',\n",
       " 'Strong Magnetic Field',\n",
       " 'Thick Atmosphere'}"
      ]
     },
     "execution_count": 8,
     "metadata": {},
     "output_type": "execute_result"
    }
   ],
   "source": [
    "#Left Exclusive join\n",
    "Earth_exljoin=E.difference(M)\n",
    "Earth_exljoin"
   ]
  },
  {
   "cell_type": "code",
   "execution_count": 9,
   "metadata": {},
   "outputs": [
    {
     "data": {
      "text/plain": [
       "{'2 moons',\n",
       " 'No water',\n",
       " 'Not Inhabited',\n",
       " 'Not that hot but very cold',\n",
       " 'Thin Atmosphere',\n",
       " 'Weak Magnetic Field',\n",
       " 'smaller'}"
      ]
     },
     "execution_count": 9,
     "metadata": {},
     "output_type": "execute_result"
    }
   ],
   "source": [
    "#Right Exclusive Join\n",
    "Mars_exrjoin=M.difference(E)\n",
    "Mars_exrjoin"
   ]
  },
  {
   "cell_type": "code",
   "execution_count": 10,
   "metadata": {},
   "outputs": [
    {
     "data": {
      "text/plain": [
       "{'2 moons',\n",
       " '4 seasons',\n",
       " 'A moon',\n",
       " 'Canyons',\n",
       " 'Craters',\n",
       " 'Different Temperature',\n",
       " 'Dry Land',\n",
       " 'Few Craters',\n",
       " 'Has Water',\n",
       " 'Ice caps',\n",
       " 'Inhabited',\n",
       " 'Larger',\n",
       " 'Made of Rock',\n",
       " 'No water',\n",
       " 'Not Inhabited',\n",
       " 'Not that hot but very cold',\n",
       " 'Storms',\n",
       " 'Strong Magnetic Field',\n",
       " 'Thick Atmosphere',\n",
       " 'Thin Atmosphere',\n",
       " 'Valleys',\n",
       " 'Volcanoes',\n",
       " 'Weak Magnetic Field',\n",
       " 'smaller'}"
      ]
     },
     "execution_count": 10,
     "metadata": {},
     "output_type": "execute_result"
    }
   ],
   "source": [
    "#Full Outer Join\n",
    "Full_Outerj=E.union(M)\n",
    "Full_Outerj"
   ]
  },
  {
   "cell_type": "code",
   "execution_count": 12,
   "metadata": {},
   "outputs": [
    {
     "data": {
      "text/plain": [
       "{'2 moons',\n",
       " 'A moon',\n",
       " 'Different Temperature',\n",
       " 'Few Craters',\n",
       " 'Has Water',\n",
       " 'Inhabited',\n",
       " 'Larger',\n",
       " 'No water',\n",
       " 'Not Inhabited',\n",
       " 'Not that hot but very cold',\n",
       " 'Strong Magnetic Field',\n",
       " 'Thick Atmosphere',\n",
       " 'Thin Atmosphere',\n",
       " 'Weak Magnetic Field',\n",
       " 'smaller'}"
      ]
     },
     "execution_count": 12,
     "metadata": {},
     "output_type": "execute_result"
    }
   ],
   "source": [
    "#Full Outer Exclusive Join\n",
    "Full_xouterj = (E.difference(M)).union(M.difference(E))\n",
    "Full_xouterj"
   ]
  }
 ],
 "metadata": {
  "kernelspec": {
   "display_name": "Python 3",
   "language": "python",
   "name": "python3"
  },
  "language_info": {
   "codemirror_mode": {
    "name": "ipython",
    "version": 3
   },
   "file_extension": ".py",
   "mimetype": "text/x-python",
   "name": "python",
   "nbconvert_exporter": "python",
   "pygments_lexer": "ipython3",
   "version": "3.8.3"
  }
 },
 "nbformat": 4,
 "nbformat_minor": 4
}
